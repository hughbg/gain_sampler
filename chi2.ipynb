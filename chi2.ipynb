{
 "cells": [
  {
   "cell_type": "markdown",
   "metadata": {},
   "source": [
    "## Property of chi2 in ideal case\n",
    "\n",
    "The expectation value of chi2 is 1 in the ideal case because it sums up roughly the variance, which is then averaged. See JD paper."
   ]
  },
  {
   "cell_type": "code",
   "execution_count": 92,
   "metadata": {},
   "outputs": [],
   "source": [
    "from vis_creator import VisSim\n",
    "from calcs import split_re_im\n",
    "import numpy as np"
   ]
  },
  {
   "cell_type": "code",
   "execution_count": 93,
   "metadata": {},
   "outputs": [],
   "source": [
    "obs_variance = 100.0+100.0j\n",
    "\n",
    "# Perfect data, but with noise added to the observed vis\n",
    "sim = VisSim(20, 20, 20, add_noise=True, obs_variance=obs_variance)"
   ]
  },
  {
   "cell_type": "code",
   "execution_count": 94,
   "metadata": {},
   "outputs": [
    {
     "name": "stdout",
     "output_type": "stream",
     "text": [
      "This should be roughly the obs_variance (100.0): 106.58701498515522\n",
      "This should be chi2 of 1: 1.0658701498515522\n"
     ]
    }
   ],
   "source": [
    "diff = split_re_im(sim.V_obs-sim.get_simulated_visibilities())**2\n",
    "print(\"This should be roughly the obs_variance (\"+np.str((obs_variance.real+obs_variance.imag)/2)+\"):\", np.mean(diff))\n",
    "\n",
    "chi2 = diff/split_re_im(sim.obs_variance)\n",
    "\n",
    "print(\"This should be chi2 of 1:\", np.mean(chi2))"
   ]
  },
  {
   "cell_type": "code",
   "execution_count": null,
   "metadata": {},
   "outputs": [],
   "source": []
  },
  {
   "cell_type": "code",
   "execution_count": null,
   "metadata": {},
   "outputs": [],
   "source": []
  }
 ],
 "metadata": {
  "kernelspec": {
   "display_name": "Python 3",
   "language": "python",
   "name": "python3"
  },
  "language_info": {
   "codemirror_mode": {
    "name": "ipython",
    "version": 3
   },
   "file_extension": ".py",
   "mimetype": "text/x-python",
   "name": "python",
   "nbconvert_exporter": "python",
   "pygments_lexer": "ipython3",
   "version": "3.7.6"
  }
 },
 "nbformat": 4,
 "nbformat_minor": 4
}

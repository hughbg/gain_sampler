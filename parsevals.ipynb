{
 "cells": [
  {
   "cell_type": "markdown",
   "metadata": {},
   "source": [
    "# Part 1\n",
    "\n",
    "The issue is what happens to the stats of the data generated from an FFT using two measures and several different data configurations. The measures are:\n",
    "\n",
    "1. The absolute value squared (for Parsavals)\n",
    "2. The standard deviation of the real and imaginary values separately.\n",
    "\n",
    "Using standard deviation means that the initial values must be \n",
    "\n",
    "Data are assumed to be complex. The different configurations of data are:\n",
    "1. Filled grid\n",
    "2. Filled but all imaginary values missing\n",
    "3. Partially filled grid - random real or imaginary values missing.\n",
    "\n",
    "Assume the data and fft values have no bias, otherwise what follows is invalid.\n",
    "\n",
    "I'm interested in what happens when going from FFT->data because the Fourier modes will be controlling the x values in sampling.\n",
    "\n",
    "I use the FourierOps used by sampling."
   ]
  },
  {
   "cell_type": "code",
   "execution_count": 4,
   "metadata": {
    "execution": {
     "iopub.execute_input": "2022-05-12T19:09:50.538420Z",
     "iopub.status.busy": "2022-05-12T19:09:50.537704Z",
     "iopub.status.idle": "2022-05-12T19:09:59.430146Z",
     "shell.execute_reply": "2022-05-12T19:09:59.428620Z"
    },
    "papermill": {
     "duration": 8.903155,
     "end_time": "2022-05-12T19:09:59.434509",
     "exception": false,
     "start_time": "2022-05-12T19:09:50.531354",
     "status": "completed"
    },
    "tags": []
   },
   "outputs": [],
   "source": [
    "import numpy as np\n",
    "from fourier_ops import FourierOps\n",
    "dim = 128\n",
    "fops = FourierOps(dim, dim, 1)        # ntime, nfreq, nant\n"
   ]
  },
  {
   "cell_type": "markdown",
   "metadata": {
    "execution": {
     "iopub.execute_input": "2022-05-12T19:09:59.446536Z",
     "iopub.status.busy": "2022-05-12T19:09:59.445489Z",
     "iopub.status.idle": "2022-05-12T19:09:59.487596Z",
     "shell.execute_reply": "2022-05-12T19:09:59.486462Z"
    },
    "papermill": {
     "duration": 0.04975,
     "end_time": "2022-05-12T19:09:59.490706",
     "exception": false,
     "start_time": "2022-05-12T19:09:59.440956",
     "status": "completed"
    },
    "tags": []
   },
   "source": [
    "### Filled grid  "
   ]
  },
  {
   "cell_type": "code",
   "execution_count": 17,
   "metadata": {},
   "outputs": [
    {
     "name": "stdout",
     "output_type": "stream",
     "text": [
      "Abs squared 207131.63340066082 207131.63340066082\n",
      "sigma real 2.5015840349940244 2.5310531930121685\n",
      "sigma imag 2.526698875673362 2.496806271368333\n"
     ]
    }
   ],
   "source": [
    "re = np.random.normal(size=(dim, dim))*2.5\n",
    "im = np.random.normal(size=(dim, dim))*2.5\n",
    "fft = np.array([re+im*1j])\n",
    "\n",
    "data = fops.ifft2_normed(fft)\n",
    "\n",
    "print(\"Abs squared\", np.sum(np.abs(data)**2), np.sum(np.abs(fft)**2))\n",
    "\n",
    "print(\"sigma real\", np.std(data.real), np.std(fft.real))\n",
    "print(\"sigma imag\", np.std(data.imag), np.std(fft.imag))"
   ]
  },
  {
   "cell_type": "markdown",
   "metadata": {},
   "source": [
    "\n",
    "From this we can conclude that *both* measures are conserved by the FFT in this case."
   ]
  },
  {
   "cell_type": "markdown",
   "metadata": {
    "execution": {
     "iopub.execute_input": "2022-05-12T19:09:59.497898Z",
     "iopub.status.busy": "2022-05-12T19:09:59.497470Z",
     "iopub.status.idle": "2022-05-12T19:10:01.379805Z",
     "shell.execute_reply": "2022-05-12T19:10:01.379091Z"
    },
    "papermill": {
     "duration": 1.90373,
     "end_time": "2022-05-12T19:10:01.397246",
     "exception": false,
     "start_time": "2022-05-12T19:09:59.493516",
     "status": "completed"
    },
    "tags": []
   },
   "source": [
    "### Imag values missing"
   ]
  },
  {
   "cell_type": "code",
   "execution_count": 18,
   "metadata": {},
   "outputs": [
    {
     "name": "stdout",
     "output_type": "stream",
     "text": [
      "Abs squared 102472.34735803047 102472.34735803047\n",
      "sigma real 1.7579935867995726 2.5005326889961816\n",
      "sigma imag 1.7786556444691473 0.0\n"
     ]
    }
   ],
   "source": [
    "re = np.random.normal(size=(dim, dim))*2.5\n",
    "im = np.zeros((dim, dim))\n",
    "fft = np.array([re+im*1j])\n",
    "\n",
    "data = fops.ifft2_normed(fft)\n",
    "\n",
    "print(\"Abs squared\", np.sum(np.abs(data)**2), np.sum(np.abs(fft)**2))\n",
    "\n",
    "print(\"sigma real\", np.std(data.real), np.std(fft.real))\n",
    "print(\"sigma imag\", np.std(data.imag), np.std(fft.imag))"
   ]
  },
  {
   "cell_type": "markdown",
   "metadata": {},
   "source": [
    "Parsevals theoem still works, but the rule for the sigmas has to be modified. The conservation law is:\n",
    "\n",
    "sqrt(sigma_data_real^2 + sigma_data_imag^2)  =  sqrt(sigma_fft_real^2 + sigma_fft_imag^2)\n",
    "\n",
    "and the real/imag values in the data will have the same sigma.\n",
    "\n",
    "Or \n",
    "\n",
    "sqrt(var_data_real + var_data_imag)  =  sqrt(var_fft_real + var_fft_imag)\n",
    "    "
   ]
  },
  {
   "cell_type": "code",
   "execution_count": 7,
   "metadata": {},
   "outputs": [],
   "source": [
    "### Real values missing"
   ]
  },
  {
   "cell_type": "code",
   "execution_count": 8,
   "metadata": {},
   "outputs": [
    {
     "name": "stdout",
     "output_type": "stream",
     "text": [
      "Abs squared 16358.57759241035 16358.57759241035\n",
      "sigma real 0.7041477953789491 0.0\n",
      "sigma imag 0.7089115962534093 0.9991330919520007\n"
     ]
    }
   ],
   "source": [
    "re = np.zeros((dim, dim))\n",
    "im = np.random.normal(size=(dim, dim))\n",
    "fft = np.array([re+im*1j])\n",
    "\n",
    "data = fops.ifft2_normed(fft)\n",
    "\n",
    "print(\"Abs squared\", np.sum(np.abs(data)**2), np.sum(np.abs(fft)**2))\n",
    "\n",
    "print(\"sigma real\", np.std(data.real), np.std(fft.real))\n",
    "print(\"sigma imag\", np.std(data.imag), np.std(fft.imag))"
   ]
  },
  {
   "cell_type": "markdown",
   "metadata": {},
   "source": [
    "Similar behaviour to when imag value missing."
   ]
  },
  {
   "cell_type": "markdown",
   "metadata": {},
   "source": [
    "### Imag values have different sigma"
   ]
  },
  {
   "cell_type": "code",
   "execution_count": 10,
   "metadata": {},
   "outputs": [
    {
     "name": "stdout",
     "output_type": "stream",
     "text": [
      "Abs squared 63939.467715136314 63939.4677151363\n",
      "sigma real 1.4141083315033676 0.0\n",
      "sigma imag 1.3794313966004212 1.9753774540750888\n"
     ]
    }
   ],
   "source": [
    "re = np.zeros((dim, dim))\n",
    "im = np.random.normal(size=(dim, dim))*2\n",
    "fft = np.array([re+im*1j])\n",
    "\n",
    "data = fops.ifft2_normed(fft)\n",
    "\n",
    "print(\"Abs squared\", np.sum(np.abs(data)**2), np.sum(np.abs(fft)**2))\n",
    "\n",
    "print(\"sigma real\", np.std(data.real), np.std(fft.real))\n",
    "print(\"sigma imag\", np.std(data.imag), np.std(fft.imag))"
   ]
  },
  {
   "cell_type": "markdown",
   "metadata": {},
   "source": [
    "### Random real/imag values missing\n",
    "\n",
    "Different missing locations for real and imag."
   ]
  },
  {
   "cell_type": "code",
   "execution_count": 22,
   "metadata": {},
   "outputs": [
    {
     "name": "stdout",
     "output_type": "stream",
     "text": [
      "Abs squared 1656258.7128560005 1656258.7128560008\n",
      "sigma real 9.989975562438186 1.2545138637608815\n",
      "sigma imag 1.1337886137202196 0.9947599768225804\n"
     ]
    }
   ],
   "source": [
    "re = np.random.normal(size=(dim, dim))+10\n",
    "im = np.random.normal(size=(dim, dim))\n",
    "\n",
    "percent_zeroed = 75\n",
    "\n",
    "x_indices = np.random.choice(np.arange(dim), replace=False, size=int(dim * percent_zeroed/100))\n",
    "y_indices = np.random.choice(np.arange(dim), replace=False, size=int(dim * percent_zeroed/100))\n",
    "re[x_indices, y_indices] = 0\n",
    "\n",
    "x_indices = np.random.choice(np.arange(dim), replace=False, size=int(dim * percent_zeroed/100))\n",
    "y_indices = np.random.choice(np.arange(dim), replace=False, size=int(dim * percent_zeroed/100))\n",
    "\n",
    "im[x_indices, y_indices] = 0\n",
    "\n",
    "\n",
    "fft = np.array([re+im*1j])\n",
    "\n",
    "data = fops.ifft2_normed(fft)\n",
    "\n",
    "print(\"Abs squared\", np.sum(np.abs(data)**2), np.sum(np.abs(fft)**2))\n",
    "\n",
    "print(\"sigma real\", np.std(data.real), np.std(fft.real))\n",
    "print(\"sigma imag\", np.std(data.imag), np.std(fft.imag))"
   ]
  },
  {
   "cell_type": "markdown",
   "metadata": {},
   "source": [
    "### Random real/imag values missing\n",
    "\n",
    "The same locations missing for real and imag."
   ]
  },
  {
   "cell_type": "code",
   "execution_count": 19,
   "metadata": {},
   "outputs": [
    {
     "name": "stdout",
     "output_type": "stream",
     "text": [
      "Abs squared 32536.96488488283 32536.96488488283\n",
      "sigma real 0.9942062343621965 0.9992813058346168\n",
      "sigma imag 0.9986567859065095 0.9936391024649605\n"
     ]
    }
   ],
   "source": [
    "re = np.random.normal(size=(dim, dim))\n",
    "im = np.random.normal(size=(dim, dim))\n",
    "\n",
    "percent_zeroed = 75\n",
    "\n",
    "x_indices = np.random.choice(np.arange(dim), replace=False, size=int(dim * percent_zeroed/100))\n",
    "y_indices = np.random.choice(np.arange(dim), replace=False, size=int(dim * percent_zeroed/100))\n",
    "re[x_indices, y_indices] = 0\n",
    "\n",
    "im[x_indices, y_indices] = 0\n",
    "\n",
    "\n",
    "fft = np.array([re+im*1j])\n",
    "\n",
    "data = fops.ifft2_normed(fft)\n",
    "\n",
    "print(\"Abs squared\", np.sum(np.abs(data)**2), np.sum(np.abs(fft)**2))\n",
    "\n",
    "print(\"sigma real\", np.std(data.real), np.std(fft.real))\n",
    "print(\"sigma imag\", np.std(data.imag), np.std(fft.imag))"
   ]
  },
  {
   "cell_type": "markdown",
   "metadata": {},
   "source": [
    "### Conclusion"
   ]
  },
  {
   "cell_type": "markdown",
   "metadata": {},
   "source": [
    "Parsevals always works but the law for conserving standard deviation from FFT->data is\n",
    "```\n",
    "sqrt(var_data_real + var_data_imag)  =  sqrt(var_fft_real + var_fft_imag)\n",
    "```\n",
    "and var_data_real will be the same as var_data_imag."
   ]
  },
  {
   "cell_type": "markdown",
   "metadata": {},
   "source": [
    "# Part 2\n",
    "\n",
    "What is the variance of an FFT if the variance "
   ]
  },
  {
   "cell_type": "code",
   "execution_count": 33,
   "metadata": {},
   "outputs": [
    {
     "name": "stdout",
     "output_type": "stream",
     "text": [
      "0.8060009506842274\n",
      "0.9720088586199942\n"
     ]
    }
   ],
   "source": [
    "point_variances = np.abs(np.random.normal(size=(128, 128)))\n",
    "print(np.mean(point_variances))\n",
    "\n",
    "def realize(z):\n",
    "    return np.random.normal(scale=z)\n",
    "\n",
    "print(np.var(np.vectorize(realize)(x)))\n",
    "\n",
    "\n"
   ]
  },
  {
   "cell_type": "code",
   "execution_count": null,
   "metadata": {},
   "outputs": [],
   "source": []
  }
 ],
 "metadata": {
  "kernelspec": {
   "display_name": "Python 3",
   "language": "python",
   "name": "python3"
  },
  "language_info": {
   "codemirror_mode": {
    "name": "ipython",
    "version": 3
   },
   "file_extension": ".py",
   "mimetype": "text/x-python",
   "name": "python",
   "nbconvert_exporter": "python",
   "pygments_lexer": "ipython3",
   "version": "3.7.6"
  },
  "papermill": {
   "default_parameters": {},
   "duration": 14.586869,
   "end_time": "2022-05-12T19:10:01.730241",
   "environment_variables": {},
   "exception": null,
   "input_path": "paper_plots.ipynb",
   "output_path": "x.ipynb",
   "parameters": {},
   "start_time": "2022-05-12T19:09:47.143372",
   "version": "2.3.4"
  }
 },
 "nbformat": 4,
 "nbformat_minor": 5
}

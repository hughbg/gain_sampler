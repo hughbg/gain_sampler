{
 "cells": [
  {
   "cell_type": "code",
   "execution_count": 1,
   "metadata": {},
   "outputs": [],
   "source": [
    "import hera_cal\n",
    "import numpy as np\n",
    "\n",
    "def replicate(x):\n",
    "    # Replicate the value by time and freq so that remove_degen_gains runs. It appears it needs these.\n",
    "    a = np.empty((2, 2))\n",
    "    return np.full((2, 2), x, dtype=np.complex)\n",
    "\n",
    "def normed(phase):\n",
    "    # If the phase is negative, normalize with 2*pi so it becomes positive around the circle in the other direction\n",
    "    if phase < 0: return 2*np.pi+phase\n",
    "    else: return phase"
   ]
  },
  {
   "cell_type": "code",
   "execution_count": 2,
   "metadata": {},
   "outputs": [],
   "source": [
    "# Setup what is need by remove_degen_gains\n",
    "\n",
    "\n",
    "red_groups = [[(0, 3, 'ee'), (1, 4, 'ee'), (2, 5, 'ee'), (4, 7, 'ee'), (5, 8, 'ee'), (6, 9, 'ee')], [(0, 4, 'ee'), (1, 5, 'ee'), (2, 6, 'ee'), (3, 7, 'ee'), (4, 8, 'ee'), (5, 9, 'ee')], [(0, 1, 'ee'), (1, 2, 'ee'), (3, 4, 'ee'), (4, 5, 'ee'), (5, 6, 'ee'), (7, 8, 'ee'), (8, 9, 'ee')], [(0, 7, 'ee'), (1, 8, 'ee'), (2, 9, 'ee')], [(1, 3, 'ee'), (2, 4, 'ee'), (5, 7, 'ee'), (6, 8, 'ee')], [(0, 5, 'ee'), (1, 6, 'ee'), (3, 8, 'ee'), (4, 9, 'ee')], [(0, 2, 'ee'), (3, 5, 'ee'), (4, 6, 'ee'), (7, 9, 'ee')], [(1, 7, 'ee'), (2, 8, 'ee')], [(0, 8, 'ee'), (1, 9, 'ee')], [(2, 3, 'ee'), (6, 7, 'ee')], [(0, 6, 'ee'), (3, 9, 'ee')], [(2, 7, 'ee')], [(0, 9, 'ee')], [(3, 6, 'ee')]]\n",
    "RedCal = hera_cal.redcal.RedundantCalibrator(red_groups)\n",
    "\n",
    "true_gains = {       # From real sim\n",
    "(0, 'Jee'): replicate(0.7071067811865475+0.7071067811865475j),\n",
    "(1, 'Jee'): replicate(0.7071067811865475+0.7071067811865475j),\n",
    "(2, 'Jee'): replicate(0.7071067811865475+0.7071067811865475j),\n",
    "(3, 'Jee'): replicate(0.7071067811865475+0.7071067811865475j),\n",
    "(4, 'Jee'): replicate(0.7071067811865475+0.7071067811865475j),\n",
    "(5, 'Jee'): replicate(0.7071067811865475+0.7071067811865475j),\n",
    "(6, 'Jee'): replicate(0.7071067811865475+0.7071067811865475j),\n",
    "(7, 'Jee'): replicate(0.7071067811865475+0.7071067811865475j),\n",
    "(8, 'Jee'): replicate(0.7071067811865475+0.7071067811865475j),\n",
    "(9, 'Jee'): replicate(0.7071067811865475+0.7071067811865475j),\n",
    "}\n",
    "\n",
    "redcal_gains = {      # From real sim\n",
    "(0, 'Jee'): replicate(-0.7201781868934631+0.6928207278251648j),\n",
    "(1, 'Jee'): replicate(-0.8059021830558777-0.5912365317344666j),\n",
    "(2, 'Jee'): replicate(0.4365916848182678-0.9021820425987244j),\n",
    "(3, 'Jee'): replicate(0.10386595875024796-0.9986482262611389j),\n",
    "(4, 'Jee'): replicate(0.9958833456039429-0.07131929695606232j),\n",
    "(5, 'Jee'): replicate(0.24248819053173065+0.968391478061676j),\n",
    "(6, 'Jee'): replicate(-0.9133114218711853+0.41006237268447876j),\n",
    "(7, 'Jee'): replicate(-0.7124179005622864+0.6919724345207214j),\n",
    "(8, 'Jee'): replicate(-0.8088943958282471-0.5895887613296509j),\n",
    "(9, 'Jee'): replicate(0.44396552443504333-0.8992384076118469j)\n",
    "\n",
    "}\n",
    "\n",
    "\n",
    "fixed_gains = RedCal.remove_degen_gains(redcal_gains, degen_gains=true_gains, mode='complex')\n"
   ]
  },
  {
   "cell_type": "markdown",
   "metadata": {},
   "source": [
    "### Phases of true gains\n",
    "\n",
    "They are flat i.e. all the same"
   ]
  },
  {
   "cell_type": "code",
   "execution_count": 3,
   "metadata": {},
   "outputs": [
    {
     "name": "stdout",
     "output_type": "stream",
     "text": [
      "0.7853981633974483\n",
      "0.7853981633974483\n",
      "0.7853981633974483\n",
      "0.7853981633974483\n",
      "0.7853981633974483\n",
      "0.7853981633974483\n",
      "0.7853981633974483\n",
      "0.7853981633974483\n",
      "0.7853981633974483\n",
      "0.7853981633974483\n"
     ]
    }
   ],
   "source": [
    "for key in true_gains:\n",
    "    print(np.angle(true_gains[key][0, 0]))"
   ]
  },
  {
   "cell_type": "markdown",
   "metadata": {},
   "source": [
    "### Phases of redcal gains before/after fix"
   ]
  },
  {
   "cell_type": "code",
   "execution_count": 4,
   "metadata": {},
   "outputs": [
    {
     "name": "stdout",
     "output_type": "stream",
     "text": [
      "Redcal phase         Phases desired (i.e. true)     Fixed redcal phase   Rotation amount      Difference between desired and after fixed (want 0)\n",
      "2.3755533454300055 \t 0.7853981633974483 \t 1.9043144516846637 \t 0.4712388937453418 \t -1.1189162882872155\n",
      "-2.508648899476093 \t 0.7853981633974483 \t -2.9798877959068895 \t 0.4712388964307963 \t 3.7652859593043377\n",
      "-1.12008831030486 \t 0.7853981633974483 \t -1.5913272094211108 \t 0.47123889911625083 \t 2.376725372818559\n",
      "-1.4671623848353366 \t 0.7853981633974483 \t -1.938401278655821 \t 0.47123889382048434 \t 2.723799442053269\n",
      "-0.07149205659978886 \t 0.7853981633974483 \t -0.5427309531057275 \t 0.47123889650593864 \t 1.3281291165031757\n",
      "1.3254383479565812 \t 0.7853981633974483 \t 0.854199448765188 \t 0.47123889919139317 \t -0.06880128536773977\n",
      "2.7195838117751894 \t 0.7853981633974483 \t 2.248344909898342 \t 0.47123890187684747 \t -1.4629467465008936\n",
      "2.3707517121358506 \t 0.7853981633974483 \t 1.8995128155547698 \t 0.47123889658108076 \t -1.1141146521573215\n",
      "-2.5117444628254098 \t 0.7853981633974483 \t -2.982983362091945 \t 0.47123889926653506 \t 3.768381525489393\n",
      "-1.1121911051541717 \t 0.7853981633974483 \t -1.5834300071061613 \t 0.4712389019519896 \t 2.3688281705036096\n"
     ]
    }
   ],
   "source": [
    "print(\"Redcal phase         Phases desired (i.e. true)     Fixed redcal phase   Rotation amount      Difference between desired and after fixed (want 0)\")\n",
    "for key in fixed_gains:\n",
    "    print(np.angle(redcal_gains[key][0, 0]), \"\\t\", np.angle(true_gains[key][0, 0]), \"\\t\", np.angle(fixed_gains[key][0, 0]), \"\\t\", \n",
    "          normed(np.angle(redcal_gains[key][0, 0])-np.angle(fixed_gains[key][0, 0])), \n",
    "          \"\\t\", np.angle(true_gains[key][0, 0])-np.angle(fixed_gains[key][0, 0]) )"
   ]
  },
  {
   "cell_type": "markdown",
   "metadata": {},
   "source": [
    "All the gain phases have been rotated by the same amount. However, they need to be rotated individually to match the true phase."
   ]
  },
  {
   "cell_type": "markdown",
   "metadata": {},
   "source": [
    "### Make the redcal gains the same as the true gains but all rotated by the same phase\n",
    "\n",
    "And run the fix. "
   ]
  },
  {
   "cell_type": "code",
   "execution_count": 5,
   "metadata": {},
   "outputs": [],
   "source": [
    "true_gains = {    # As initially\n",
    "(0, 'Jee'): replicate(0.7071067811865475+0.7071067811865475j),\n",
    "(1, 'Jee'): replicate(0.7071067811865475+0.7071067811865475j),\n",
    "(2, 'Jee'): replicate(0.7071067811865475+0.7071067811865475j),\n",
    "(3, 'Jee'): replicate(0.7071067811865475+0.7071067811865475j),\n",
    "(4, 'Jee'): replicate(0.7071067811865475+0.7071067811865475j),\n",
    "(5, 'Jee'): replicate(0.7071067811865475+0.7071067811865475j),\n",
    "(6, 'Jee'): replicate(0.7071067811865475+0.7071067811865475j),\n",
    "(7, 'Jee'): replicate(0.7071067811865475+0.7071067811865475j),\n",
    "(8, 'Jee'): replicate(0.7071067811865475+0.7071067811865475j),\n",
    "(9, 'Jee'): replicate(0.7071067811865475+0.7071067811865475j),\n",
    "}\n",
    "\n",
    "redcal_gains = {    # Altered\n",
    "(0, 'Jee'): replicate(1j*(-0.7201781868934631+0.6928207278251648j)),\n",
    "(1, 'Jee'): replicate(1j*(-0.7201781868934631+0.6928207278251648j)),\n",
    "(2, 'Jee'): replicate(1j*(-0.7201781868934631+0.6928207278251648j)),\n",
    "(3, 'Jee'): replicate(1j*(-0.7201781868934631+0.6928207278251648j)),\n",
    "(4, 'Jee'): replicate(1j*(-0.7201781868934631+0.6928207278251648j)),\n",
    "(5, 'Jee'): replicate(1j*(-0.7201781868934631+0.6928207278251648j)),\n",
    "(6, 'Jee'): replicate(1j*(-0.7201781868934631+0.6928207278251648j)),\n",
    "(7, 'Jee'): replicate(1j*(-0.7201781868934631+0.6928207278251648j)),\n",
    "(8, 'Jee'): replicate(1j*(-0.7201781868934631+0.6928207278251648j)),\n",
    "(9, 'Jee'): replicate(1j*(-0.7201781868934631+0.6928207278251648j))\n",
    "\n",
    "}\n",
    "\n",
    "fixed_gains = RedCal.remove_degen_gains(redcal_gains, degen_gains=true_gains, mode='complex')"
   ]
  },
  {
   "cell_type": "code",
   "execution_count": 6,
   "metadata": {},
   "outputs": [
    {
     "name": "stdout",
     "output_type": "stream",
     "text": [
      "Redcal phase         Phases desired (i.e. true)     Fixed redcal phase   Rotation amount      Difference between desired and after fixed (want 0)\n",
      "-2.336835634954684 \t 0.7853981633974483 \t 0.7853981633974478 \t 3.1609515088274542 \t 4.440892098500626e-16\n",
      "-2.336835634954684 \t 0.7853981633974483 \t 0.7853981633974509 \t 3.160951508827451 \t -2.6645352591003757e-15\n",
      "-2.336835634954684 \t 0.7853981633974483 \t 0.7853981633974536 \t 3.1609515088274485 \t -5.329070518200751e-15\n",
      "-2.336835634954684 \t 0.7853981633974483 \t 0.7853981633974456 \t 3.1609515088274565 \t 2.6645352591003757e-15\n",
      "-2.336835634954684 \t 0.7853981633974483 \t 0.7853981633974488 \t 3.1609515088274533 \t -5.551115123125783e-16\n",
      "-2.336835634954684 \t 0.7853981633974483 \t 0.7853981633974518 \t 3.1609515088274502 \t -3.552713678800501e-15\n",
      "-2.336835634954684 \t 0.7853981633974483 \t 0.7853981633974545 \t 3.1609515088274476 \t -6.217248937900877e-15\n",
      "-2.336835634954684 \t 0.7853981633974483 \t 0.7853981633974466 \t 3.1609515088274556 \t 1.6653345369377348e-15\n",
      "-2.336835634954684 \t 0.7853981633974483 \t 0.7853981633974496 \t 3.1609515088274525 \t -1.3322676295501878e-15\n",
      "-2.336835634954684 \t 0.7853981633974483 \t 0.7853981633974528 \t 3.1609515088274494 \t -4.551914400963142e-15\n"
     ]
    }
   ],
   "source": [
    "print(\"Redcal phase         Phases desired (i.e. true)     Fixed redcal phase   Rotation amount      Difference between desired and after fixed (want 0)\")\n",
    "for key in fixed_gains:\n",
    "    print(np.angle(redcal_gains[key][0, 0]), \"\\t\", np.angle(true_gains[key][0, 0]), \"\\t\", np.angle(fixed_gains[key][0, 0]), \"\\t\", \n",
    "          normed(np.angle(redcal_gains[key][0, 0])-np.angle(fixed_gains[key][0, 0])), \n",
    "          \"\\t\", np.angle(true_gains[key][0, 0])-np.angle(fixed_gains[key][0, 0]) )"
   ]
  },
  {
   "cell_type": "markdown",
   "metadata": {},
   "source": [
    "Now the fixed redcal phase is the same as the true gains"
   ]
  },
  {
   "cell_type": "markdown",
   "metadata": {},
   "source": [
    "### Make the true gains the same as the redcal gains but all rotated by the same phase"
   ]
  },
  {
   "cell_type": "code",
   "execution_count": 7,
   "metadata": {},
   "outputs": [],
   "source": [
    "true_gains = {    # Altered\n",
    "(0, 'Jee'): replicate(1j*(-0.7201781868934631+0.6928207278251648j)),\n",
    "(1, 'Jee'): replicate(1j*(-0.8059021830558777-0.5912365317344666j)),\n",
    "(2, 'Jee'): replicate(1j*(0.4365916848182678-0.9021820425987244j)),\n",
    "(3, 'Jee'): replicate(1j*(0.10386595875024796-0.9986482262611389j)),\n",
    "(4, 'Jee'): replicate(1j*(0.9958833456039429-0.07131929695606232j)),\n",
    "(5, 'Jee'): replicate(1j*(0.24248819053173065+0.968391478061676j)),\n",
    "(6, 'Jee'): replicate(1j*(-0.9133114218711853+0.41006237268447876j)),\n",
    "(7, 'Jee'): replicate(1j*(-0.7124179005622864+0.6919724345207214j)),\n",
    "(8, 'Jee'): replicate(1j*(-0.8088943958282471-0.5895887613296509j)),\n",
    "(9, 'Jee'): replicate(1j*(0.44396552443504333-0.8992384076118469j))\n",
    "}\n",
    "\n",
    "redcal_gains = {    # As initially\n",
    "(0, 'Jee'): replicate(-0.7201781868934631+0.6928207278251648j),\n",
    "(1, 'Jee'): replicate(-0.8059021830558777-0.5912365317344666j),\n",
    "(2, 'Jee'): replicate(0.4365916848182678-0.9021820425987244j),\n",
    "(3, 'Jee'): replicate(0.10386595875024796-0.9986482262611389j),\n",
    "(4, 'Jee'): replicate(0.9958833456039429-0.07131929695606232j),\n",
    "(5, 'Jee'): replicate(0.24248819053173065+0.968391478061676j),\n",
    "(6, 'Jee'): replicate(-0.9133114218711853+0.41006237268447876j),\n",
    "(7, 'Jee'): replicate(-0.7124179005622864+0.6919724345207214j),\n",
    "(8, 'Jee'): replicate(-0.8088943958282471-0.5895887613296509j),\n",
    "(9, 'Jee'): replicate(0.44396552443504333-0.8992384076118469j)\n",
    "\n",
    "}\n",
    "                      \n",
    "fixed_gains = RedCal.remove_degen_gains(redcal_gains, degen_gains=true_gains, mode='complex')"
   ]
  },
  {
   "cell_type": "code",
   "execution_count": 8,
   "metadata": {},
   "outputs": [
    {
     "name": "stdout",
     "output_type": "stream",
     "text": [
      "Redcal phase         Phases desired (i.e. true)     Fixed redcal phase   Rotation amount      Difference between desired and after fixed (want 0)\n",
      "2.3755533454300055 \t -2.336835634954684 \t -2.336835634954684 \t 4.71238898038469 \t 0.0\n",
      "-2.508648899476093 \t -0.9378525726811964 \t -0.9378525726811948 \t 4.712388980384688 \t -1.5543122344752192e-15\n",
      "-1.12008831030486 \t 0.4507080164900366 \t 0.4507080164900397 \t 4.712388980384686 \t -3.1086244689504383e-15\n",
      "-1.4671623848353366 \t 0.10363394195956002 \t 0.10363394195955906 \t 4.712388980384691 \t 9.575673587391975e-16\n",
      "-0.07149205659978886 \t 1.4993042701951078 \t 1.4993042701951083 \t 4.71238898038469 \t -4.440892098500626e-16\n",
      "1.3254383479565812 \t 2.896234674751478 \t 2.89623467475148 \t 4.712388980384687 \t -2.220446049250313e-15\n",
      "2.7195838117751894 \t -1.9928051686095005 \t -1.9928051686094967 \t 4.712388980384686 \t -3.774758283725532e-15\n",
      "2.3707517121358506 \t -2.341637268248839 \t -2.341637268248839 \t 4.71238898038469 \t 0.0\n",
      "-2.5117444628254098 \t -0.940948136030513 \t -0.9409481360305116 \t 4.712388980384688 \t -1.3322676295501878e-15\n",
      "-1.1121911051541717 \t 0.4586052216407249 \t 0.45860522164072776 \t 4.712388980384687 \t -2.831068712794149e-15\n"
     ]
    }
   ],
   "source": [
    "print(\"Redcal phase         Phases desired (i.e. true)     Fixed redcal phase   Rotation amount      Difference between desired and after fixed (want 0)\")\n",
    "for key in fixed_gains:\n",
    "    print(np.angle(redcal_gains[key][0, 0]), \"\\t\", np.angle(true_gains[key][0, 0]), \"\\t\", np.angle(fixed_gains[key][0, 0]), \"\\t\", \n",
    "          normed(np.angle(redcal_gains[key][0, 0])-np.angle(fixed_gains[key][0, 0])), \n",
    "          \"\\t\", np.angle(true_gains[key][0, 0])-np.angle(fixed_gains[key][0, 0]) )"
   ]
  },
  {
   "cell_type": "markdown",
   "metadata": {},
   "source": [
    "## Conclusion\n",
    "\n",
    "The degeneracy fix will rotate the gain phases as a whole by the same phase, but will not rotate them individually by different phases. Therefore, the gains to be fixed must have relative phases that are already correct. For the calibrated sims, this is not the case."
   ]
  },
  {
   "cell_type": "code",
   "execution_count": null,
   "metadata": {},
   "outputs": [],
   "source": []
  }
 ],
 "metadata": {
  "kernelspec": {
   "display_name": "Python 3",
   "language": "python",
   "name": "python3"
  },
  "language_info": {
   "codemirror_mode": {
    "name": "ipython",
    "version": 3
   },
   "file_extension": ".py",
   "mimetype": "text/x-python",
   "name": "python",
   "nbconvert_exporter": "python",
   "pygments_lexer": "ipython3",
   "version": "3.7.6"
  }
 },
 "nbformat": 4,
 "nbformat_minor": 4
}
